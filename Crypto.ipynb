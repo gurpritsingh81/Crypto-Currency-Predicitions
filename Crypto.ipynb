{
 "cells": [
  {
   "cell_type": "markdown",
   "id": "c26a5c2b",
   "metadata": {},
   "source": [
    "# Libraries Used"
   ]
  },
  {
   "cell_type": "code",
   "execution_count": 13,
   "id": "95ab0e3b",
   "metadata": {},
   "outputs": [],
   "source": [
    "import numpy as np\n",
    "import matplotlib.pyplot as plt\n",
    "import pandas as pd\n",
    "import datetime as dt\n",
    "import pandas_datareader as web\n",
    "\n",
    "from sklearn.preprocessing import MinMaxScaler\n",
    "from tensorflow.keras.layers import Dense,Dropout,LSTM\n",
    "from tensorflow.keras.models import Sequential"
   ]
  },
  {
   "cell_type": "markdown",
   "id": "c4c3a5a1",
   "metadata": {},
   "source": [
    "# Setting inicial"
   ]
  },
  {
   "cell_type": "code",
   "execution_count": 14,
   "id": "7e49767e",
   "metadata": {},
   "outputs": [
    {
     "name": "stdout",
     "output_type": "stream",
     "text": [
      "Enter the Currency :btc\n",
      "Which Currecy Do you want to use for reference : inr\n"
     ]
    }
   ],
   "source": [
    "crypro_currency=input(\"Enter the Currency :\")\n",
    "against_currency=input(\"Which Currecy Do you want to use for reference : \")"
   ]
  },
  {
   "cell_type": "code",
   "execution_count": 15,
   "id": "d14c3701",
   "metadata": {},
   "outputs": [],
   "source": [
    "start=dt.datetime(2016,1,1)\n",
    "end=dt.datetime.now()"
   ]
  },
  {
   "cell_type": "code",
   "execution_count": 16,
   "id": "47c24442",
   "metadata": {},
   "outputs": [],
   "source": [
    "data= web.DataReader(f'{crypro_currency}-{against_currency}','yahoo',start,end)"
   ]
  },
  {
   "cell_type": "markdown",
   "id": "a34a004e",
   "metadata": {},
   "source": [
    "# How The Data Looks"
   ]
  },
  {
   "cell_type": "code",
   "execution_count": 17,
   "id": "5f48cb6a",
   "metadata": {},
   "outputs": [
    {
     "name": "stdout",
     "output_type": "stream",
     "text": [
      "                    High           Low          Open         Close  \\\n",
      "Date                                                                 \n",
      "2015-12-31  28659.066406  27719.962891  28300.330078  28503.232422   \n",
      "2016-01-01  28864.216797  28273.705078  28513.429688  28763.769531   \n",
      "2016-01-02  28878.207031  28600.589844  28782.841797  28704.431641   \n",
      "2016-01-03  28724.630859  28096.636719  28713.703125  28467.287109   \n",
      "2016-01-04  28897.769531  28404.460938  28470.597656  28842.994141   \n",
      "\n",
      "                Volume     Adj Close  \n",
      "Date                                  \n",
      "2015-12-31  3044942722  28503.232422  \n",
      "2016-01-01  2402570153  28763.769531  \n",
      "2016-01-02  1993147335  28704.431641  \n",
      "2016-01-03  2623809084  28467.287109  \n",
      "2016-01-04  2562524545  28842.994141  \n"
     ]
    }
   ],
   "source": [
    "print(data.head())"
   ]
  },
  {
   "cell_type": "markdown",
   "id": "3175050e",
   "metadata": {},
   "source": [
    "# sclaring the data from 0 to 1 "
   ]
  },
  {
   "cell_type": "code",
   "execution_count": 18,
   "id": "c63ef7f1",
   "metadata": {},
   "outputs": [],
   "source": [
    "scaler=MinMaxScaler(feature_range=(0,1))\n",
    "scaled_data=scaler.fit_transform(data['Close'].values.reshape(-1,1))"
   ]
  },
  {
   "cell_type": "code",
   "execution_count": 19,
   "id": "4899d3dd",
   "metadata": {},
   "outputs": [
    {
     "name": "stdout",
     "output_type": "stream",
     "text": [
      "[[0.00076754]\n",
      " [0.00081996]\n",
      " [0.00080802]\n",
      " ...\n",
      " [0.64050872]\n",
      " [0.63802062]\n",
      " [0.64334799]]\n"
     ]
    }
   ],
   "source": [
    "print(scaled_data)"
   ]
  },
  {
   "cell_type": "markdown",
   "id": "f4bc22eb",
   "metadata": {},
   "source": [
    "# For prediction we will be using 60 days in the past "
   ]
  },
  {
   "cell_type": "code",
   "execution_count": 5,
   "id": "d1d2c3bc",
   "metadata": {},
   "outputs": [],
   "source": [
    "prediction_days=60\n",
    "future_day=10"
   ]
  },
  {
   "cell_type": "code",
   "execution_count": 26,
   "id": "33a5cd1b",
   "metadata": {},
   "outputs": [],
   "source": [
    "x_train,y_train=[],[]"
   ]
  },
  {
   "cell_type": "code",
   "execution_count": 27,
   "id": "789ec38d",
   "metadata": {},
   "outputs": [],
   "source": [
    "for x in range(prediction_days,len(scaled_data)-future_day):\n",
    "    x_train.append(scaled_data[x-prediction_days:x,0])\n",
    "    y_train.append(scaled_data[x+future_day,0])"
   ]
  },
  {
   "cell_type": "code",
   "execution_count": 28,
   "id": "b660a20b",
   "metadata": {},
   "outputs": [],
   "source": [
    "x_train,y_train=np.array(x_train),np.array(y_train)"
   ]
  },
  {
   "cell_type": "code",
   "execution_count": 29,
   "id": "55b6250a",
   "metadata": {},
   "outputs": [],
   "source": [
    "x_train = np.reshape(x_train,(x_train.shape[0],x_train.shape[1], 1))"
   ]
  },
  {
   "cell_type": "markdown",
   "id": "9e1c424e",
   "metadata": {},
   "source": [
    "# Create the Neural Network for Prediction"
   ]
  },
  {
   "cell_type": "code",
   "execution_count": 30,
   "id": "f214f7e1",
   "metadata": {},
   "outputs": [],
   "source": [
    "model = Sequential()"
   ]
  },
  {
   "cell_type": "code",
   "execution_count": 31,
   "id": "da03f4cc",
   "metadata": {},
   "outputs": [],
   "source": [
    "model.add(LSTM(units=50,return_sequences=True,input_shape=(x_train.shape[1],1)))\n",
    "model.add(Dropout(0.2))\n",
    "model.add(LSTM(units=50,return_sequences=True))\n",
    "model.add(Dropout(0.2))\n",
    "model.add(LSTM(units=50))\n",
    "model.add(Dropout(0.2))\n",
    "model.add(Dense(units=1))\n",
    "model.compile(optimizer='adam',loss='mean_squared_error')"
   ]
  },
  {
   "cell_type": "code",
   "execution_count": 32,
   "id": "8d7fe1bd",
   "metadata": {},
   "outputs": [
    {
     "name": "stdout",
     "output_type": "stream",
     "text": [
      "Epoch 1/30\n",
      "7/7 [==============================] - 13s 1s/step - loss: 0.2887\n",
      "Epoch 2/30\n",
      "7/7 [==============================] - 12s 2s/step - loss: 0.0623\n",
      "Epoch 3/30\n",
      "7/7 [==============================] - 13s 2s/step - loss: 0.0418\n",
      "Epoch 4/30\n",
      "7/7 [==============================] - 13s 2s/step - loss: 0.0272\n",
      "Epoch 5/30\n",
      "7/7 [==============================] - 13s 2s/step - loss: 0.0212\n",
      "Epoch 6/30\n",
      "7/7 [==============================] - 14s 2s/step - loss: 0.0210\n",
      "Epoch 7/30\n",
      "7/7 [==============================] - 13s 2s/step - loss: 0.0200\n",
      "Epoch 8/30\n",
      "7/7 [==============================] - 13s 2s/step - loss: 0.0189\n",
      "Epoch 9/30\n",
      "7/7 [==============================] - 13s 2s/step - loss: 0.0191\n",
      "Epoch 10/30\n",
      "7/7 [==============================] - 13s 2s/step - loss: 0.0198\n",
      "Epoch 11/30\n",
      "7/7 [==============================] - 14s 2s/step - loss: 0.0165\n",
      "Epoch 12/30\n",
      "7/7 [==============================] - 13s 2s/step - loss: 0.0162\n",
      "Epoch 13/30\n",
      "7/7 [==============================] - 13s 2s/step - loss: 0.0177\n",
      "Epoch 14/30\n",
      "7/7 [==============================] - 13s 2s/step - loss: 0.0165\n",
      "Epoch 15/30\n",
      "7/7 [==============================] - 14s 2s/step - loss: 0.0177\n",
      "Epoch 16/30\n",
      "7/7 [==============================] - 14s 2s/step - loss: 0.0161\n",
      "Epoch 17/30\n",
      "7/7 [==============================] - 14s 2s/step - loss: 0.0182\n",
      "Epoch 18/30\n",
      "7/7 [==============================] - 14s 2s/step - loss: 0.0178\n",
      "Epoch 19/30\n",
      "7/7 [==============================] - 14s 2s/step - loss: 0.0155\n",
      "Epoch 20/30\n",
      "7/7 [==============================] - 15s 2s/step - loss: 0.0138\n",
      "Epoch 21/30\n",
      "7/7 [==============================] - 15s 2s/step - loss: 0.0139\n",
      "Epoch 22/30\n",
      "7/7 [==============================] - 14s 2s/step - loss: 0.0108\n",
      "Epoch 23/30\n",
      "7/7 [==============================] - 15s 2s/step - loss: 0.0119\n",
      "Epoch 24/30\n",
      "7/7 [==============================] - 15s 2s/step - loss: 0.0119\n",
      "Epoch 25/30\n",
      "7/7 [==============================] - 15s 2s/step - loss: 0.0136\n",
      "Epoch 26/30\n",
      "7/7 [==============================] - 16s 2s/step - loss: 0.0105\n",
      "Epoch 27/30\n",
      "7/7 [==============================] - 15s 2s/step - loss: 0.0102\n",
      "Epoch 28/30\n",
      "7/7 [==============================] - 14s 2s/step - loss: 0.0118\n",
      "Epoch 29/30\n",
      "7/7 [==============================] - 15s 2s/step - loss: 0.0123\n",
      "Epoch 30/30\n",
      "7/7 [==============================] - 15s 2s/step - loss: 0.0118\n"
     ]
    },
    {
     "data": {
      "text/plain": [
       "<keras.callbacks.History at 0x16d1e2ba6a0>"
      ]
     },
     "execution_count": 32,
     "metadata": {},
     "output_type": "execute_result"
    }
   ],
   "source": [
    "model.fit(x_train,y_train,epochs=30, batch_size=32)"
   ]
  },
  {
   "cell_type": "markdown",
   "id": "dfa8230a",
   "metadata": {},
   "source": [
    "#  Testing the Model"
   ]
  },
  {
   "cell_type": "code",
   "execution_count": 33,
   "id": "de57e6d4",
   "metadata": {},
   "outputs": [],
   "source": [
    "test_start=dt.datetime(2020,1,1)\n",
    "test_end=dt.datetime.now()"
   ]
  },
  {
   "cell_type": "code",
   "execution_count": 34,
   "id": "5c259e9c",
   "metadata": {},
   "outputs": [],
   "source": [
    "test_data= web.DataReader(f'{crypro_currency}-{against_currency}','yahoo',test_start,test_end)"
   ]
  },
  {
   "cell_type": "code",
   "execution_count": 35,
   "id": "85907e24",
   "metadata": {},
   "outputs": [],
   "source": [
    "actual_price=test_data['Close'].values"
   ]
  },
  {
   "cell_type": "code",
   "execution_count": 36,
   "id": "aa7af933",
   "metadata": {},
   "outputs": [],
   "source": [
    "total_dataset=pd.concat((data['Close'],test_data['Close']),axis=0)"
   ]
  },
  {
   "cell_type": "code",
   "execution_count": 37,
   "id": "6ff39b67",
   "metadata": {},
   "outputs": [],
   "source": [
    "modle_inputs= total_dataset[len(total_dataset)-len(test_data)-prediction_days:].values"
   ]
  },
  {
   "cell_type": "code",
   "execution_count": 38,
   "id": "f41bb5c6",
   "metadata": {},
   "outputs": [],
   "source": [
    "modle_inputs=modle_inputs.reshape(-1,1)\n",
    "modle_inputs=scaler.fit_transform(modle_inputs)"
   ]
  },
  {
   "cell_type": "code",
   "execution_count": 39,
   "id": "d06e7adf",
   "metadata": {},
   "outputs": [],
   "source": [
    "x_test=[]"
   ]
  },
  {
   "cell_type": "code",
   "execution_count": 40,
   "id": "5052de6b",
   "metadata": {},
   "outputs": [],
   "source": [
    "for x in range(prediction_days,len(modle_inputs)):\n",
    "    x_test.append(modle_inputs[x-prediction_days:x,0])"
   ]
  },
  {
   "cell_type": "code",
   "execution_count": 41,
   "id": "eff1fd84",
   "metadata": {},
   "outputs": [],
   "source": [
    "x_test=np.array(x_test)\n",
    "x_test=np.reshape(x_test,(x_test.shape[0],x_test.shape[1],1))"
   ]
  },
  {
   "cell_type": "code",
   "execution_count": 42,
   "id": "58a85379",
   "metadata": {},
   "outputs": [],
   "source": [
    "prediction_prices=model.predict(x_test)\n",
    "prediction_prices=scaler.inverse_transform(prediction_prices)"
   ]
  },
  {
   "cell_type": "code",
   "execution_count": 43,
   "id": "83cf0d53",
   "metadata": {},
   "outputs": [
    {
     "data": {
      "image/png": "[encoded data removed]",
      "text/plain": [
       "<Figure size 432x288 with 1 Axes>"
      ]
     },
     "metadata": {
      "needs_background": "light"
     },
     "output_type": "display_data"
    }
   ],
   "source": [
    "plt.plot(actual_price,color='black',label='Actuatl Prices')\n",
    "plt.plot(prediction_prices,color='green',label='Prediction Prices')\n",
    "plt.title(f'{crypro_currency} Price Prediction')\n",
    "plt.xlabel('Date')\n",
    "plt.ylabel('Price')\n",
    "plt.legend(loc='upper left')\n",
    "plt.show()"
   ]
  },
  {
   "cell_type": "markdown",
   "id": "f1b8d497",
   "metadata": {},
   "source": [
    "# Predict Next Day"
   ]
  },
  {
   "cell_type": "code",
   "execution_count": 44,
   "id": "14adf050",
   "metadata": {},
   "outputs": [],
   "source": [
    "real_data=[modle_inputs[len(modle_inputs)+1- prediction_days:len(modle_inputs)+1,0]]\n",
    "real_data=np.array(real_data)\n",
    "real_data=np.reshape(real_data,(real_data.shape[0],real_data.shape[1],1))"
   ]
  },
  {
   "cell_type": "code",
   "execution_count": 45,
   "id": "be49d61a",
   "metadata": {
    "scrolled": true
   },
   "outputs": [
    {
     "name": "stdout",
     "output_type": "stream",
     "text": [
      "WARNING:tensorflow:Model was constructed with shape (None, 1800, 1) for input KerasTensor(type_spec=TensorSpec(shape=(None, 1800, 1), dtype=tf.float32, name='lstm_input'), name='lstm_input', description=\"created by layer 'lstm_input'\"), but it was called on an input with incompatible shape (None, 1799, 1).\n"
     ]
    }
   ],
   "source": [
    "prediction=model.predict(real_data)\n",
    "prediction=scaler.inverse_transform(prediction)"
   ]
  },
  {
   "cell_type": "code",
   "execution_count": 46,
   "id": "896896be",
   "metadata": {},
   "outputs": [
    {
     "name": "stdout",
     "output_type": "stream",
     "text": [
      "[[3486488.5]]\n"
     ]
    }
   ],
   "source": [
    "print(prediction)"
   ]
  },
  {
   "cell_type": "code",
   "execution_count": 1,
   "id": "1be9debd",
   "metadata": {
    "scrolled": false
   },
   "outputs": [
    {
     "name": "stdout",
     "output_type": "stream",
     "text": [
      "Collecting fbprophet\n",
      "  Using cached fbprophet-0.7.1.tar.gz (64 kB)\n",
      "  Preparing metadata (setup.py): started\n",
      "  Preparing metadata (setup.py): finished with status 'done'\n",
      "Requirement already satisfied: Cython>=0.22 in c:\\programdata\\anaconda3\\lib\\site-packages (from fbprophet) (0.29.24)\n",
      "Requirement already satisfied: cmdstanpy==0.9.5 in c:\\programdata\\anaconda3\\lib\\site-packages (from fbprophet) (0.9.5)\n",
      "Requirement already satisfied: pystan>=2.14 in c:\\programdata\\anaconda3\\lib\\site-packages (from fbprophet) (2.19.1.1)\n",
      "Requirement already satisfied: numpy>=1.15.4 in c:\\users\\asus\\appdata\\roaming\\python\\python38\\site-packages (from fbprophet) (1.19.5)\n",
      "Requirement already satisfied: pandas>=1.0.4 in c:\\programdata\\anaconda3\\lib\\site-packages (from fbprophet) (1.3.2)\n",
      "Requirement already satisfied: matplotlib>=2.0.0 in c:\\programdata\\anaconda3\\lib\\site-packages (from fbprophet) (3.4.2)\n",
      "Requirement already satisfied: LunarCalendar>=0.0.9 in c:\\programdata\\anaconda3\\lib\\site-packages (from fbprophet) (0.0.9)\n",
      "Requirement already satisfied: convertdate>=2.1.2 in c:\\programdata\\anaconda3\\lib\\site-packages (from fbprophet) (2.4.0)\n",
      "Requirement already satisfied: holidays>=0.10.2 in c:\\programdata\\anaconda3\\lib\\site-packages (from fbprophet) (0.12)\n",
      "Requirement already satisfied: setuptools-git>=1.2 in c:\\programdata\\anaconda3\\lib\\site-packages (from fbprophet) (1.2)\n",
      "Requirement already satisfied: python-dateutil>=2.8.0 in c:\\programdata\\anaconda3\\lib\\site-packages (from fbprophet) (2.8.2)\n",
      "Requirement already satisfied: tqdm>=4.36.1 in c:\\programdata\\anaconda3\\lib\\site-packages (from fbprophet) (4.62.1)\n",
      "Requirement already satisfied: pymeeus<=1,>=0.3.13 in c:\\programdata\\anaconda3\\lib\\site-packages (from convertdate>=2.1.2->fbprophet) (0.5.11)\n",
      "Requirement already satisfied: korean-lunar-calendar in c:\\programdata\\anaconda3\\lib\\site-packages (from holidays>=0.10.2->fbprophet) (0.2.1)\n",
      "Requirement already satisfied: hijri-converter in c:\\programdata\\anaconda3\\lib\\site-packages (from holidays>=0.10.2->fbprophet) (2.2.3)\n",
      "Requirement already satisfied: ephem>=3.7.5.3 in c:\\programdata\\anaconda3\\lib\\site-packages (from LunarCalendar>=0.0.9->fbprophet) (4.1.3)\n",
      "Requirement already satisfied: pytz in c:\\programdata\\anaconda3\\lib\\site-packages (from LunarCalendar>=0.0.9->fbprophet) (2021.1)\n",
      "Requirement already satisfied: kiwisolver>=1.0.1 in c:\\programdata\\anaconda3\\lib\\site-packages (from matplotlib>=2.0.0->fbprophet) (1.3.1)\n",
      "Requirement already satisfied: pyparsing>=2.2.1 in c:\\programdata\\anaconda3\\lib\\site-packages (from matplotlib>=2.0.0->fbprophet) (2.4.7)\n",
      "Requirement already satisfied: pillow>=6.2.0 in c:\\programdata\\anaconda3\\lib\\site-packages (from matplotlib>=2.0.0->fbprophet) (8.3.1)\n",
      "Requirement already satisfied: cycler>=0.10 in c:\\programdata\\anaconda3\\lib\\site-packages (from matplotlib>=2.0.0->fbprophet) (0.10.0)\n",
      "Requirement already satisfied: six>=1.5 in c:\\programdata\\anaconda3\\lib\\site-packages (from python-dateutil>=2.8.0->fbprophet) (1.16.0)\n",
      "Requirement already satisfied: colorama in c:\\programdata\\anaconda3\\lib\\site-packages (from tqdm>=4.36.1->fbprophet) (0.4.4)\n",
      "Building wheels for collected packages: fbprophet\n",
      "  Building wheel for fbprophet (setup.py): started\n",
      "  Building wheel for fbprophet (setup.py): finished with status 'error'\n",
      "  Running setup.py clean for fbprophet\n",
      "Failed to build fbprophet\n",
      "Installing collected packages: fbprophet\n",
      "  Running setup.py install for fbprophet: started\n",
      "  Running setup.py install for fbprophet: finished with status 'error'\n"
     ]
    },
    {
     "name": "stderr",
     "output_type": "stream",
     "text": [
      "WARNING: Ignoring invalid distribution -mpy (c:\\programdata\\anaconda3\\lib\\site-packages)\n",
      "WARNING: Ignoring invalid distribution -ytz (c:\\programdata\\anaconda3\\lib\\site-packages)\n",
      "WARNING: Ignoring invalid distribution -umpy (c:\\programdata\\anaconda3\\lib\\site-packages)\n",
      "WARNING: Ignoring invalid distribution -mpy (c:\\programdata\\anaconda3\\lib\\site-packages)\n",
      "WARNING: Ignoring invalid distribution -mdstanpy (c:\\programdata\\anaconda3\\lib\\site-packages)\n",
      "WARNING: Ignoring invalid distribution - (c:\\programdata\\anaconda3\\lib\\site-packages)\n",
      "WARNING: Ignoring invalid distribution -mpy (c:\\programdata\\anaconda3\\lib\\site-packages)\n",
      "WARNING: Ignoring invalid distribution -ytz (c:\\programdata\\anaconda3\\lib\\site-packages)\n",
      "WARNING: Ignoring invalid distribution -umpy (c:\\programdata\\anaconda3\\lib\\site-packages)\n",
      "WARNING: Ignoring invalid distribution -mpy (c:\\programdata\\anaconda3\\lib\\site-packages)\n",
      "WARNING: Ignoring invalid distribution -mdstanpy (c:\\programdata\\anaconda3\\lib\\site-packages)\n",
      "WARNING: Ignoring invalid distribution - (c:\\programdata\\anaconda3\\lib\\site-packages)\n",
      "  error: subprocess-exited-with-error\n",
      "  \n",
      "  python setup.py bdist_wheel did not run successfully.\n",
      "  exit code: 1\n",
      "  \n",
      "  [12 lines of output]\n",
      "  running bdist_wheel\n",
      "  running build\n",
      "  running build_py\n",
      "  creating build\n",
      "  creating build\\lib\n",
      "  creating build\\lib\\fbprophet\n",
      "  creating build\\lib\\fbprophet\\stan_model\n",
      "  INFO:pystan:COMPILING THE C++ CODE FOR MODEL anon_model_f5236004a3fd5b8429270d00efcc0cf9 NOW.\n",
      "  WARNING:pystan:MSVC compiler is not supported\n",
      "  stanfit4anon_model_f5236004a3fd5b8429270d00efcc0cf9_3108433162232952594.cpp\n",
      "  C:\\ProgramData\\Anaconda3\\include\\pyconfig.h(59): fatal error C1083: Cannot open include file: 'io.h': No such file or directory\n",
      "  error: command 'C:\\\\Program Files (x86)\\\\Microsoft Visual Studio\\\\2019\\\\Community\\\\VC\\\\Tools\\\\MSVC\\\\14.29.30133\\\\bin\\\\HostX86\\\\x64\\\\cl.exe' failed with exit status 2\n",
      "  [end of output]\n",
      "  \n",
      "  note: This error originates from a subprocess, and is likely not a problem with pip.\n",
      "  ERROR: Failed building wheel for fbprophet\n",
      "WARNING: Ignoring invalid distribution -mpy (c:\\programdata\\anaconda3\\lib\\site-packages)\n",
      "WARNING: Ignoring invalid distribution -ytz (c:\\programdata\\anaconda3\\lib\\site-packages)\n",
      "WARNING: Ignoring invalid distribution -umpy (c:\\programdata\\anaconda3\\lib\\site-packages)\n",
      "WARNING: Ignoring invalid distribution -mpy (c:\\programdata\\anaconda3\\lib\\site-packages)\n",
      "WARNING: Ignoring invalid distribution -mdstanpy (c:\\programdata\\anaconda3\\lib\\site-packages)\n",
      "WARNING: Ignoring invalid distribution - (c:\\programdata\\anaconda3\\lib\\site-packages)\n",
      "  error: subprocess-exited-with-error\n",
      "  \n",
      "  Running setup.py install for fbprophet did not run successfully.\n",
      "  exit code: 1\n",
      "  \n",
      "  [12 lines of output]\n",
      "  running install\n",
      "  running build\n",
      "  running build_py\n",
      "  creating build\n",
      "  creating build\\lib\n",
      "  creating build\\lib\\fbprophet\n",
      "  creating build\\lib\\fbprophet\\stan_model\n",
      "  INFO:pystan:COMPILING THE C++ CODE FOR MODEL anon_model_f5236004a3fd5b8429270d00efcc0cf9 NOW.\n",
      "  WARNING:pystan:MSVC compiler is not supported\n",
      "  stanfit4anon_model_f5236004a3fd5b8429270d00efcc0cf9_7217016705542245284.cpp\n",
      "  C:\\ProgramData\\Anaconda3\\include\\pyconfig.h(59): fatal error C1083: Cannot open include file: 'io.h': No such file or directory\n",
      "  error: command 'C:\\\\Program Files (x86)\\\\Microsoft Visual Studio\\\\2019\\\\Community\\\\VC\\\\Tools\\\\MSVC\\\\14.29.30133\\\\bin\\\\HostX86\\\\x64\\\\cl.exe' failed with exit status 2\n",
      "  [end of output]\n",
      "  \n",
      "  note: This error originates from a subprocess, and is likely not a problem with pip.\n",
      "error: legacy-install-failure\n",
      "\n",
      "Encountered error while trying to install package.\n",
      "\n",
      "fbprophet\n",
      "\n",
      "note: This is an issue with the package mentioned above, not pip.\n",
      "hint: See above for output from the failure.\n",
      "WARNING: Ignoring invalid distribution -mpy (c:\\programdata\\anaconda3\\lib\\site-packages)\n",
      "WARNING: Ignoring invalid distribution -ytz (c:\\programdata\\anaconda3\\lib\\site-packages)\n",
      "WARNING: Ignoring invalid distribution -umpy (c:\\programdata\\anaconda3\\lib\\site-packages)\n",
      "WARNING: Ignoring invalid distribution -mpy (c:\\programdata\\anaconda3\\lib\\site-packages)\n",
      "WARNING: Ignoring invalid distribution -mdstanpy (c:\\programdata\\anaconda3\\lib\\site-packages)\n",
      "WARNING: Ignoring invalid distribution - (c:\\programdata\\anaconda3\\lib\\site-packages)\n"
     ]
    }
   ],
   "source": [
    "!pip install fbprophet"
   ]
  },
  {
   "cell_type": "code",
   "execution_count": 4,
   "id": "527a0159",
   "metadata": {},
   "outputs": [
    {
     "name": "stdout",
     "output_type": "stream",
     "text": [
      "Collecting package metadata (current_repodata.json): ...working... done\n",
      "Note: you may need to restart the kernel to use updated packages.\n",
      "Solving environment: ...working... failed with initial frozen solve. Retrying with flexible solve.\n",
      "Collecting package metadata (repodata.json): ...working... done\n",
      "Solving environment: ...working... failed with initial frozen solve. Retrying with flexible solve.\n",
      "\n"
     ]
    },
    {
     "name": "stderr",
     "output_type": "stream",
     "text": [
      "\n",
      "PackagesNotFoundError: The following packages are not available from current channels:\n",
      "\n",
      "  - gcc\n",
      "\n",
      "Current channels:\n",
      "\n",
      "  - https://repo.anaconda.com/pkgs/main/win-64\n",
      "  - https://repo.anaconda.com/pkgs/main/noarch\n",
      "  - https://repo.anaconda.com/pkgs/r/win-64\n",
      "  - https://repo.anaconda.com/pkgs/r/noarch\n",
      "  - https://repo.anaconda.com/pkgs/msys2/win-64\n",
      "  - https://repo.anaconda.com/pkgs/msys2/noarch\n",
      "\n",
      "To search for alternate channels that may provide the conda package you're\n",
      "looking for, navigate to\n",
      "\n",
      "    https://anaconda.org\n",
      "\n",
      "and use the search bar at the top of the page.\n",
      "\n",
      "\n"
     ]
    }
   ],
   "source": [
    "conda install gcc"
   ]
  }
 ],
 "metadata": {
  "kernelspec": {
   "display_name": "Python 3 (ipykernel)",
   "language": "python",
   "name": "python3"
  },
  "language_info": {
   "codemirror_mode": {
    "name": "ipython",
    "version": 3
   },
   "file_extension": ".py",
   "mimetype": "text/x-python",
   "name": "python",
   "nbconvert_exporter": "python",
   "pygments_lexer": "ipython3",
   "version": "3.8.11"
  }
 },
 "nbformat": 4,
 "nbformat_minor": 5
}
